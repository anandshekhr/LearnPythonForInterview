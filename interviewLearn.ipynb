{
 "cells": [
  {
   "cell_type": "code",
   "execution_count": 1,
   "id": "208a179f",
   "metadata": {},
   "outputs": [],
   "source": [
    "#read .csv file\n",
    "\n",
    "#import Libraries\n",
    "import pandas as pd\n",
    "import numpy as np\n"
   ]
  },
  {
   "cell_type": "code",
   "execution_count": 2,
   "id": "24ac4b6e",
   "metadata": {},
   "outputs": [],
   "source": [
    "#read CSV file\n",
    "df = pd.read_csv(\"./haberman.csv\")"
   ]
  },
  {
   "cell_type": "code",
   "execution_count": 3,
   "id": "43d9a9c5",
   "metadata": {},
   "outputs": [
    {
     "name": "stdout",
     "output_type": "stream",
     "text": [
      "     30  64   1  1.1\n",
      "0    30  62   3    1\n",
      "1    30  65   0    1\n",
      "2    31  59   2    1\n",
      "3    31  65   4    1\n",
      "4    33  58  10    1\n",
      "..   ..  ..  ..  ...\n",
      "300  75  62   1    1\n",
      "301  76  67   0    1\n",
      "302  77  65   3    1\n",
      "303  78  65   1    2\n",
      "304  83  58   2    2\n",
      "\n",
      "[305 rows x 4 columns]\n"
     ]
    }
   ],
   "source": [
    "print(df)"
   ]
  },
  {
   "cell_type": "code",
   "execution_count": 4,
   "id": "538e2a98",
   "metadata": {},
   "outputs": [
    {
     "data": {
      "text/html": [
       "<div>\n",
       "<style scoped>\n",
       "    .dataframe tbody tr th:only-of-type {\n",
       "        vertical-align: middle;\n",
       "    }\n",
       "\n",
       "    .dataframe tbody tr th {\n",
       "        vertical-align: top;\n",
       "    }\n",
       "\n",
       "    .dataframe thead th {\n",
       "        text-align: right;\n",
       "    }\n",
       "</style>\n",
       "<table border=\"1\" class=\"dataframe\">\n",
       "  <thead>\n",
       "    <tr style=\"text-align: right;\">\n",
       "      <th></th>\n",
       "      <th>30</th>\n",
       "      <th>64</th>\n",
       "      <th>1</th>\n",
       "      <th>1.1</th>\n",
       "    </tr>\n",
       "  </thead>\n",
       "  <tbody>\n",
       "    <tr>\n",
       "      <th>0</th>\n",
       "      <td>30</td>\n",
       "      <td>62</td>\n",
       "      <td>3</td>\n",
       "      <td>1</td>\n",
       "    </tr>\n",
       "    <tr>\n",
       "      <th>1</th>\n",
       "      <td>30</td>\n",
       "      <td>65</td>\n",
       "      <td>0</td>\n",
       "      <td>1</td>\n",
       "    </tr>\n",
       "    <tr>\n",
       "      <th>2</th>\n",
       "      <td>31</td>\n",
       "      <td>59</td>\n",
       "      <td>2</td>\n",
       "      <td>1</td>\n",
       "    </tr>\n",
       "    <tr>\n",
       "      <th>3</th>\n",
       "      <td>31</td>\n",
       "      <td>65</td>\n",
       "      <td>4</td>\n",
       "      <td>1</td>\n",
       "    </tr>\n",
       "    <tr>\n",
       "      <th>4</th>\n",
       "      <td>33</td>\n",
       "      <td>58</td>\n",
       "      <td>10</td>\n",
       "      <td>1</td>\n",
       "    </tr>\n",
       "  </tbody>\n",
       "</table>\n",
       "</div>"
      ],
      "text/plain": [
       "   30  64   1  1.1\n",
       "0  30  62   3    1\n",
       "1  30  65   0    1\n",
       "2  31  59   2    1\n",
       "3  31  65   4    1\n",
       "4  33  58  10    1"
      ]
     },
     "execution_count": 4,
     "metadata": {},
     "output_type": "execute_result"
    }
   ],
   "source": [
    "# to give head of DF\n",
    "# give first five rows of df\n",
    "df.head()"
   ]
  },
  {
   "cell_type": "code",
   "execution_count": 5,
   "id": "8f19a2e6",
   "metadata": {},
   "outputs": [
    {
     "data": {
      "text/html": [
       "<div>\n",
       "<style scoped>\n",
       "    .dataframe tbody tr th:only-of-type {\n",
       "        vertical-align: middle;\n",
       "    }\n",
       "\n",
       "    .dataframe tbody tr th {\n",
       "        vertical-align: top;\n",
       "    }\n",
       "\n",
       "    .dataframe thead th {\n",
       "        text-align: right;\n",
       "    }\n",
       "</style>\n",
       "<table border=\"1\" class=\"dataframe\">\n",
       "  <thead>\n",
       "    <tr style=\"text-align: right;\">\n",
       "      <th></th>\n",
       "      <th>30</th>\n",
       "      <th>64</th>\n",
       "      <th>1</th>\n",
       "      <th>1.1</th>\n",
       "    </tr>\n",
       "  </thead>\n",
       "  <tbody>\n",
       "    <tr>\n",
       "      <th>300</th>\n",
       "      <td>75</td>\n",
       "      <td>62</td>\n",
       "      <td>1</td>\n",
       "      <td>1</td>\n",
       "    </tr>\n",
       "    <tr>\n",
       "      <th>301</th>\n",
       "      <td>76</td>\n",
       "      <td>67</td>\n",
       "      <td>0</td>\n",
       "      <td>1</td>\n",
       "    </tr>\n",
       "    <tr>\n",
       "      <th>302</th>\n",
       "      <td>77</td>\n",
       "      <td>65</td>\n",
       "      <td>3</td>\n",
       "      <td>1</td>\n",
       "    </tr>\n",
       "    <tr>\n",
       "      <th>303</th>\n",
       "      <td>78</td>\n",
       "      <td>65</td>\n",
       "      <td>1</td>\n",
       "      <td>2</td>\n",
       "    </tr>\n",
       "    <tr>\n",
       "      <th>304</th>\n",
       "      <td>83</td>\n",
       "      <td>58</td>\n",
       "      <td>2</td>\n",
       "      <td>2</td>\n",
       "    </tr>\n",
       "  </tbody>\n",
       "</table>\n",
       "</div>"
      ],
      "text/plain": [
       "     30  64  1  1.1\n",
       "300  75  62  1    1\n",
       "301  76  67  0    1\n",
       "302  77  65  3    1\n",
       "303  78  65  1    2\n",
       "304  83  58  2    2"
      ]
     },
     "execution_count": 5,
     "metadata": {},
     "output_type": "execute_result"
    }
   ],
   "source": [
    "#give last few rows\n",
    "df.tail()"
   ]
  },
  {
   "cell_type": "code",
   "execution_count": 6,
   "id": "f6d2e31c",
   "metadata": {},
   "outputs": [
    {
     "data": {
      "text/html": [
       "<div>\n",
       "<style scoped>\n",
       "    .dataframe tbody tr th:only-of-type {\n",
       "        vertical-align: middle;\n",
       "    }\n",
       "\n",
       "    .dataframe tbody tr th {\n",
       "        vertical-align: top;\n",
       "    }\n",
       "\n",
       "    .dataframe thead th {\n",
       "        text-align: right;\n",
       "    }\n",
       "</style>\n",
       "<table border=\"1\" class=\"dataframe\">\n",
       "  <thead>\n",
       "    <tr style=\"text-align: right;\">\n",
       "      <th></th>\n",
       "      <th>30</th>\n",
       "      <th>64</th>\n",
       "      <th>1</th>\n",
       "      <th>1.1</th>\n",
       "    </tr>\n",
       "  </thead>\n",
       "  <tbody>\n",
       "    <tr>\n",
       "      <th>2</th>\n",
       "      <td>31</td>\n",
       "      <td>59</td>\n",
       "      <td>2</td>\n",
       "      <td>1</td>\n",
       "    </tr>\n",
       "    <tr>\n",
       "      <th>3</th>\n",
       "      <td>31</td>\n",
       "      <td>65</td>\n",
       "      <td>4</td>\n",
       "      <td>1</td>\n",
       "    </tr>\n",
       "    <tr>\n",
       "      <th>4</th>\n",
       "      <td>33</td>\n",
       "      <td>58</td>\n",
       "      <td>10</td>\n",
       "      <td>1</td>\n",
       "    </tr>\n",
       "  </tbody>\n",
       "</table>\n",
       "</div>"
      ],
      "text/plain": [
       "   30  64   1  1.1\n",
       "2  31  59   2    1\n",
       "3  31  65   4    1\n",
       "4  33  58  10    1"
      ]
     },
     "execution_count": 6,
     "metadata": {},
     "output_type": "execute_result"
    }
   ],
   "source": [
    "#data slicing\n",
    "df[2:5]"
   ]
  },
  {
   "cell_type": "code",
   "execution_count": 7,
   "id": "f1d2df62",
   "metadata": {},
   "outputs": [
    {
     "data": {
      "text/plain": [
       "Index(['30', '64', '1', '1.1'], dtype='object')"
      ]
     },
     "execution_count": 7,
     "metadata": {},
     "output_type": "execute_result"
    }
   ],
   "source": [
    "#listof columns\n",
    "df.columns"
   ]
  },
  {
   "cell_type": "code",
   "execution_count": 8,
   "id": "48d05d36",
   "metadata": {},
   "outputs": [
    {
     "data": {
      "text/plain": [
       "count    305.000000\n",
       "mean      52.531148\n",
       "std       10.744024\n",
       "min       30.000000\n",
       "25%       44.000000\n",
       "50%       52.000000\n",
       "75%       61.000000\n",
       "max       83.000000\n",
       "Name: 30, dtype: float64"
      ]
     },
     "execution_count": 8,
     "metadata": {},
     "output_type": "execute_result"
    }
   ],
   "source": [
    "#describe min max \n",
    "df['30'].min()\n",
    "df['30'].max()\n",
    "df['30'].describe()"
   ]
  },
  {
   "cell_type": "code",
   "execution_count": 9,
   "id": "4f2df30c",
   "metadata": {},
   "outputs": [
    {
     "name": "stdout",
     "output_type": "stream",
     "text": [
      "[0 1 2 3 4 5 6 7 8 9]\n"
     ]
    }
   ],
   "source": [
    "#numpy arrays\n",
    "a = np.arange(10)\n",
    "print(a)"
   ]
  },
  {
   "cell_type": "code",
   "execution_count": 10,
   "id": "d011e83b",
   "metadata": {},
   "outputs": [
    {
     "data": {
      "text/plain": [
       "1"
      ]
     },
     "execution_count": 10,
     "metadata": {},
     "output_type": "execute_result"
    }
   ],
   "source": [
    "#show dimension\n",
    "a.ndim"
   ]
  },
  {
   "cell_type": "code",
   "execution_count": 11,
   "id": "f5854b32",
   "metadata": {},
   "outputs": [
    {
     "data": {
      "text/plain": [
       "(10,)"
      ]
     },
     "execution_count": 11,
     "metadata": {},
     "output_type": "execute_result"
    }
   ],
   "source": [
    "#show shape\n",
    "a.shape"
   ]
  },
  {
   "cell_type": "code",
   "execution_count": 12,
   "id": "52af3754",
   "metadata": {},
   "outputs": [],
   "source": [
    "#arange with stepsize\n",
    "a = np.arange(1,10,2)"
   ]
  },
  {
   "cell_type": "code",
   "execution_count": 13,
   "id": "946e760a",
   "metadata": {},
   "outputs": [
    {
     "name": "stdout",
     "output_type": "stream",
     "text": [
      "[1 3 5 7 9]\n"
     ]
    }
   ],
   "source": [
    "print(a)"
   ]
  },
  {
   "cell_type": "code",
   "execution_count": 14,
   "id": "ed9b6577",
   "metadata": {},
   "outputs": [
    {
     "name": "stdout",
     "output_type": "stream",
     "text": [
      "[0.  0.2 0.4 0.6 0.8 1. ]\n"
     ]
    }
   ],
   "source": [
    "#linspace: divide the range in number of parts\n",
    "a =np.linspace(0,1,6)\n",
    "print(a)"
   ]
  },
  {
   "cell_type": "code",
   "execution_count": 15,
   "id": "c2513231",
   "metadata": {},
   "outputs": [
    {
     "name": "stdout",
     "output_type": "stream",
     "text": [
      "[[1. 1. 1.]\n",
      " [1. 1. 1.]\n",
      " [1. 1. 1.]]\n"
     ]
    }
   ],
   "source": [
    "#make a matrix\n",
    "a = np.ones((3,3))\n",
    "print(a)"
   ]
  },
  {
   "cell_type": "code",
   "execution_count": 16,
   "id": "dae6e4a6",
   "metadata": {},
   "outputs": [
    {
     "name": "stdout",
     "output_type": "stream",
     "text": [
      "[[1. 0. 0.]\n",
      " [0. 1. 0.]\n",
      " [0. 0. 1.]]\n"
     ]
    }
   ],
   "source": [
    "#make a identity matrix\n",
    "a = np.eye(3)\n",
    "print(a)"
   ]
  },
  {
   "cell_type": "code",
   "execution_count": 17,
   "id": "cad23daf",
   "metadata": {},
   "outputs": [
    {
     "name": "stdout",
     "output_type": "stream",
     "text": [
      "[[1. 0. 0.]\n",
      " [0. 1. 0.]]\n"
     ]
    }
   ],
   "source": [
    "# make identity matrix with rows and columns\n",
    "a =np.eye(2,3)\n",
    "print(a)"
   ]
  },
  {
   "cell_type": "code",
   "execution_count": 18,
   "id": "324ec661",
   "metadata": {},
   "outputs": [
    {
     "name": "stdout",
     "output_type": "stream",
     "text": [
      "[[1 0 0 0]\n",
      " [0 2 0 0]\n",
      " [0 0 3 0]\n",
      " [0 0 0 4]]\n"
     ]
    }
   ],
   "source": [
    "#make matrix with diagonal values\n",
    "a = np.diag([1,2,3,4])\n",
    "print(a)"
   ]
  },
  {
   "cell_type": "code",
   "execution_count": 19,
   "id": "41e03312",
   "metadata": {},
   "outputs": [],
   "source": [
    "# assigning values in matrix\n",
    "a[2,1] = 5"
   ]
  },
  {
   "cell_type": "code",
   "execution_count": 20,
   "id": "f34db36d",
   "metadata": {},
   "outputs": [
    {
     "name": "stdout",
     "output_type": "stream",
     "text": [
      "[[1 0 0 0]\n",
      " [0 2 0 0]\n",
      " [0 5 3 0]\n",
      " [0 0 0 4]]\n"
     ]
    }
   ],
   "source": [
    "print(a)"
   ]
  },
  {
   "cell_type": "code",
   "execution_count": 21,
   "id": "1afc07dc",
   "metadata": {},
   "outputs": [
    {
     "name": "stdout",
     "output_type": "stream",
     "text": [
      "[1 3 5 7]\n"
     ]
    }
   ],
   "source": [
    "#slicing a range\n",
    "a = np.arange(10)\n",
    "print(a[1:8:2])"
   ]
  },
  {
   "cell_type": "code",
   "execution_count": 22,
   "id": "6acbae13",
   "metadata": {},
   "outputs": [],
   "source": [
    "#functions\n",
    "\n",
    "#arbitrary arguments:\n",
    "def arbitrary_arguments():\n",
    "    return \"sometimes we do not know in advance the no. of arguments that will be passed into a function. Python allows us to handle this kind of situation through dfunciton calls with arbitraty no. of arguments\"\n"
   ]
  },
  {
   "cell_type": "code",
   "execution_count": 23,
   "id": "1ba3087a",
   "metadata": {},
   "outputs": [
    {
     "data": {
      "text/plain": [
       "'sometimes we do not know in advance the no. of arguments that will be passed into a function. Python allows us to handle this kind of situation through dfunciton calls with arbitraty no. of arguments'"
      ]
     },
     "execution_count": 23,
     "metadata": {},
     "output_type": "execute_result"
    }
   ],
   "source": [
    "arbitrary_arguments()"
   ]
  },
  {
   "cell_type": "code",
   "execution_count": 24,
   "id": "994a4183",
   "metadata": {},
   "outputs": [],
   "source": [
    "# text wrap funciton\n",
    "import textwrap\n",
    "def text_wrap(string,max_width):\n",
    "    new_text = textwrap.fill(string,width = max_width)\n",
    "    return new_text"
   ]
  },
  {
   "cell_type": "code",
   "execution_count": 25,
   "id": "3f391655",
   "metadata": {},
   "outputs": [
    {
     "data": {
      "text/plain": [
       "'abcde\\nfghij\\nklmno\\npqrst\\nuvwxy\\nz'"
      ]
     },
     "execution_count": 25,
     "metadata": {},
     "output_type": "execute_result"
    }
   ],
   "source": [
    "text_wrap('abcdefghijklmnopqrstuvwxyz',5)"
   ]
  },
  {
   "cell_type": "code",
   "execution_count": 26,
   "id": "280001a0",
   "metadata": {},
   "outputs": [],
   "source": [
    "#list and list functions\n",
    "emptylist = []"
   ]
  },
  {
   "cell_type": "code",
   "execution_count": 27,
   "id": "e9674451",
   "metadata": {},
   "outputs": [],
   "source": [
    "emptylist = ['one','two','three']"
   ]
  },
  {
   "cell_type": "code",
   "execution_count": 28,
   "id": "1440efb1",
   "metadata": {},
   "outputs": [
    {
     "name": "stdout",
     "output_type": "stream",
     "text": [
      "['one', 'two', 'three']\n"
     ]
    }
   ],
   "source": [
    "print(emptylist)"
   ]
  },
  {
   "cell_type": "code",
   "execution_count": 29,
   "id": "4ccbd1bb",
   "metadata": {},
   "outputs": [],
   "source": [
    "b = emptylist"
   ]
  },
  {
   "cell_type": "code",
   "execution_count": 30,
   "id": "9bd943a1",
   "metadata": {},
   "outputs": [
    {
     "name": "stdout",
     "output_type": "stream",
     "text": [
      "['one', 'two', 'three']\n"
     ]
    }
   ],
   "source": [
    "print(b)"
   ]
  },
  {
   "cell_type": "code",
   "execution_count": 31,
   "id": "c4a5260b",
   "metadata": {},
   "outputs": [
    {
     "name": "stdout",
     "output_type": "stream",
     "text": [
      "3\n"
     ]
    }
   ],
   "source": [
    "print(len(b)) #length of list"
   ]
  },
  {
   "cell_type": "code",
   "execution_count": 32,
   "id": "e60e9d8b",
   "metadata": {},
   "outputs": [
    {
     "name": "stdout",
     "output_type": "stream",
     "text": [
      "['one', 'two', 'three', 'five']\n"
     ]
    }
   ],
   "source": [
    "b.append('five') #to add element in the list\n",
    "print(b)"
   ]
  },
  {
   "cell_type": "code",
   "execution_count": 33,
   "id": "86c4c3ac",
   "metadata": {},
   "outputs": [
    {
     "name": "stdout",
     "output_type": "stream",
     "text": [
      "['one', 'two', 'six', 'three', 'five']\n"
     ]
    }
   ],
   "source": [
    "# to insert element at certain locations\n",
    "b.insert(2,'six')\n",
    "print(b)"
   ]
  },
  {
   "cell_type": "code",
   "execution_count": 34,
   "id": "79a41e4e",
   "metadata": {},
   "outputs": [
    {
     "name": "stdout",
     "output_type": "stream",
     "text": [
      "['one', 'two', 'three', 'five']\n"
     ]
    }
   ],
   "source": [
    "#to remove element form list\n",
    "b.remove('six')\n",
    "print(b)      #remove the first occurence of item"
   ]
  },
  {
   "cell_type": "code",
   "execution_count": 35,
   "id": "e9857491",
   "metadata": {},
   "outputs": [
    {
     "name": "stdout",
     "output_type": "stream",
     "text": [
      "['one', 'two', 'three', 'five', 1, 2, 3]\n"
     ]
    }
   ],
   "source": [
    "#to extend the list\n",
    "c = [1,2,3]\n",
    "b.extend(c)\n",
    "print(b)"
   ]
  },
  {
   "cell_type": "code",
   "execution_count": 36,
   "id": "4a215d8b",
   "metadata": {},
   "outputs": [
    {
     "name": "stdout",
     "output_type": "stream",
     "text": [
      "['one', 'two', 'three', 'five', 1, 2, 3, [1, 2, 3]]\n"
     ]
    }
   ],
   "source": [
    "#to append the list\n",
    "b.append(c)\n",
    "print(b)        #list will be appended as it is in another list"
   ]
  },
  {
   "cell_type": "code",
   "execution_count": 37,
   "id": "a57d2fdd",
   "metadata": {},
   "outputs": [
    {
     "name": "stdout",
     "output_type": "stream",
     "text": [
      "['one', 'two', 'three', 'five', 1, 2, 3]\n"
     ]
    }
   ],
   "source": [
    "# to delete items from list\n",
    "del b[-1]\n",
    "print(b)     #delete the specific position"
   ]
  },
  {
   "cell_type": "code",
   "execution_count": 38,
   "id": "28c6844f",
   "metadata": {},
   "outputs": [
    {
     "name": "stdout",
     "output_type": "stream",
     "text": [
      "['one', 'two', 'three', 'five', 1, 2]\n",
      "3\n"
     ]
    }
   ],
   "source": [
    "# to delete items from list\n",
    "e = b.pop(-1)\n",
    "print(b)\n",
    "print(e)"
   ]
  },
  {
   "cell_type": "code",
   "execution_count": 39,
   "id": "a9caf4fe",
   "metadata": {},
   "outputs": [],
   "source": [
    "#arrays\n"
   ]
  },
  {
   "cell_type": "code",
   "execution_count": 40,
   "id": "84694a17",
   "metadata": {},
   "outputs": [],
   "source": [
    "#List and Dictionary Comprehension\n",
    "def list_dictionary_comprehension():\n",
    "    return \"Python comprehensios are syntactic constructs providing a way to build a list, dictionary or set based on the existing list, dictionary or set whilst altering or filtering elements e.g [i for i in range(10,60) if i %10 == 0], insimple words declaring list in one line\""
   ]
  },
  {
   "cell_type": "code",
   "execution_count": 41,
   "id": "721a4eba",
   "metadata": {},
   "outputs": [
    {
     "data": {
      "text/plain": [
       "'Python comprehensios are syntactic constructs providing a way to build a list, dictionary or set based on the existing list, dictionary or set whilst altering or filtering elements e.g [i for i in range(10,60) if i %10 == 0], insimple words declaring list in one line'"
      ]
     },
     "execution_count": 41,
     "metadata": {},
     "output_type": "execute_result"
    }
   ],
   "source": [
    "list_dictionary_comprehension()"
   ]
  },
  {
   "cell_type": "code",
   "execution_count": 42,
   "id": "6d11b08b",
   "metadata": {},
   "outputs": [],
   "source": [
    "#Generators and Decorators\n",
    "def generators():\n",
    "    return \"It is a function returning an iterable or object over which can iterate that is by taking one value at a time\""
   ]
  },
  {
   "cell_type": "code",
   "execution_count": 43,
   "id": "960bdc94",
   "metadata": {},
   "outputs": [],
   "source": [
    "def decorator():\n",
    "    return \"A decorator allows us to modify or alter the functions, methods and classes\""
   ]
  },
  {
   "cell_type": "code",
   "execution_count": 44,
   "id": "e1c77cb2",
   "metadata": {},
   "outputs": [],
   "source": [
    "# difference between 'is' and '=='\n",
    "def difference_between_is_and_equal():\n",
    "    return \"\"\" '==' checks for equality b/w the variable and 'is' check for identity of the variables\n",
    "    \"\"\" "
   ]
  },
  {
   "cell_type": "code",
   "execution_count": 45,
   "id": "2014393d",
   "metadata": {},
   "outputs": [
    {
     "data": {
      "text/plain": [
       "\" '==' checks for equality b/w the variable and 'is' check for identity of the variables\\n    \""
      ]
     },
     "execution_count": 45,
     "metadata": {},
     "output_type": "execute_result"
    }
   ],
   "source": [
    "difference_between_is_and_equal()"
   ]
  },
  {
   "cell_type": "code",
   "execution_count": 46,
   "id": "de6e2ed4",
   "metadata": {},
   "outputs": [],
   "source": [
    "# differenc e between indexing and slicing\n",
    "def indexing_and_slicing():\n",
    "    return \"\"\" indexing: extracting or looking one or particular values in a data structure e.g. a = [Python] print(a[2]) = t\n",
    "    slicing: retreive a sequence of elements e.g. print(a[2:]) = thon\n",
    "    \n",
    "    \"\"\""
   ]
  },
  {
   "cell_type": "code",
   "execution_count": 47,
   "id": "4e171dbc",
   "metadata": {},
   "outputs": [
    {
     "data": {
      "text/plain": [
       "' indexing: extracting or looking one or particular values in a data structure e.g. a = [Python] print(a[2]) = t\\n    slicing: retreive a sequence of elements e.g. print(a[2:]) = thon\\n    \\n    '"
      ]
     },
     "execution_count": 47,
     "metadata": {},
     "output_type": "execute_result"
    }
   ],
   "source": [
    "indexing_and_slicing()"
   ]
  },
  {
   "cell_type": "code",
   "execution_count": 48,
   "id": "9e6ed06e",
   "metadata": {},
   "outputs": [],
   "source": [
    "def Python():\n",
    "    return \"python is an object-oriented language, meaning it can encloses the code within objects\""
   ]
  },
  {
   "cell_type": "code",
   "execution_count": 49,
   "id": "9108151d",
   "metadata": {},
   "outputs": [],
   "source": [
    "def PEP8():\n",
    "    return \"\"\"PEP8 is coding convention, It consists of coding guidelines that are a set of recommendation for python language about making the python more readable\n",
    "     and usable for another persion\"\"\""
   ]
  },
  {
   "cell_type": "code",
   "execution_count": 50,
   "id": "49c53ced",
   "metadata": {},
   "outputs": [],
   "source": [
    "def Mutable_and_immutable_objects():\n",
    "    return \"\"\"mutability: is the ability to change the portion of data structure without having to recreate it.\n",
    "    e.g. list,sets,values in the dictionary\n",
    "    immutability: e.g. integers, string, float, bool, tuples, keys \n",
    "    \"\"\""
   ]
  },
  {
   "cell_type": "code",
   "execution_count": 51,
   "id": "ca77ed13",
   "metadata": {},
   "outputs": [
    {
     "data": {
      "text/plain": [
       "'mutability: is the ability to change the portion of data structure without having to recreate it.\\n    e.g. list,sets,values in the dictionary\\n    immutability: e.g. integers, string, float, bool, tuples, keys \\n    '"
      ]
     },
     "execution_count": 51,
     "metadata": {},
     "output_type": "execute_result"
    }
   ],
   "source": [
    "Mutable_and_immutable_objects()"
   ]
  },
  {
   "cell_type": "code",
   "execution_count": 52,
   "id": "7353d473",
   "metadata": {},
   "outputs": [],
   "source": [
    "def compound_data_types():\n",
    "    return \" the data types that is constructed using simple, primitive and basic data types are compound data types\""
   ]
  },
  {
   "cell_type": "code",
   "execution_count": 53,
   "id": "779d17c5",
   "metadata": {},
   "outputs": [],
   "source": [
    "def data_structure():\n",
    "    return \" DS in python allows us to store multiple observations. these are lists, tuples, sets, and dictionaries\""
   ]
  },
  {
   "cell_type": "code",
   "execution_count": 54,
   "id": "1641b1f8",
   "metadata": {},
   "outputs": [],
   "source": [
    "def difference_between_lists_and_tuplesS():\n",
    "    return \"\"\"List: lists are enclosed within []\n",
    "    Lists are mutable\n",
    "    Lists are slower than tuples\n",
    "    Tuples: enclosed withing parenthesis()\n",
    "    tuples are immutables\n",
    "    tuples are faster than lists\n",
    "    tuples must be used where order of the element of the sequence matters\n",
    "    \"\"\""
   ]
  },
  {
   "cell_type": "code",
   "execution_count": 57,
   "id": "67f09219",
   "metadata": {},
   "outputs": [
    {
     "name": "stdout",
     "output_type": "stream",
     "text": [
      "<class 'list'>\n"
     ]
    }
   ],
   "source": [
    "a=[1,5,8,7,5,10]\n",
    "print(type(a))\n"
   ]
  },
  {
   "cell_type": "code",
   "execution_count": 63,
   "id": "1272ee85",
   "metadata": {},
   "outputs": [
    {
     "name": "stdout",
     "output_type": "stream",
     "text": [
      "[1, 5, 10, 8, 7, 5, 10, 11, 11, 11, 11]\n"
     ]
    }
   ],
   "source": [
    "a.append(11)\n",
    "print(a)"
   ]
  },
  {
   "cell_type": "code",
   "execution_count": 64,
   "id": "5ab6ab53",
   "metadata": {},
   "outputs": [],
   "source": [
    "a.insert(2,10) #insert(location,value)"
   ]
  },
  {
   "cell_type": "code",
   "execution_count": 62,
   "id": "2c90f3a5",
   "metadata": {},
   "outputs": [
    {
     "name": "stdout",
     "output_type": "stream",
     "text": [
      "[1, 5, 10, 8, 7, 5, 10, 11, 11, 11]\n"
     ]
    }
   ],
   "source": [
    "print(a)"
   ]
  },
  {
   "cell_type": "code",
   "execution_count": 69,
   "id": "ae501579",
   "metadata": {},
   "outputs": [],
   "source": [
    "#remove\n",
    "a.remove(10) #remove only removes the first occurence of elements"
   ]
  },
  {
   "cell_type": "code",
   "execution_count": 70,
   "id": "3f4298ad",
   "metadata": {},
   "outputs": [
    {
     "name": "stdout",
     "output_type": "stream",
     "text": [
      "[1, 5, 8, 7, 5, 11, 11, 11, 11]\n"
     ]
    }
   ],
   "source": [
    "print(a)"
   ]
  },
  {
   "cell_type": "code",
   "execution_count": 75,
   "id": "f6ae9f6a",
   "metadata": {},
   "outputs": [
    {
     "data": {
      "text/plain": [
       "11"
      ]
     },
     "execution_count": 75,
     "metadata": {},
     "output_type": "execute_result"
    }
   ],
   "source": [
    "#pop() -- removes element from the end oof list, return the value\n",
    "a.pop()\n",
    "# print(a)"
   ]
  },
  {
   "cell_type": "code",
   "execution_count": 77,
   "id": "ac3b8378",
   "metadata": {},
   "outputs": [
    {
     "data": {
      "text/plain": [
       "5"
      ]
     },
     "execution_count": 77,
     "metadata": {},
     "output_type": "execute_result"
    }
   ],
   "source": [
    "a.pop(4) #pop()index -- return the value deleted"
   ]
  },
  {
   "cell_type": "code",
   "execution_count": 78,
   "id": "390e2f8f",
   "metadata": {},
   "outputs": [
    {
     "name": "stdout",
     "output_type": "stream",
     "text": [
      "[1, 5, 8, 7]\n"
     ]
    }
   ],
   "source": [
    "print(a)"
   ]
  },
  {
   "cell_type": "code",
   "execution_count": 79,
   "id": "48d5fdf6",
   "metadata": {},
   "outputs": [
    {
     "name": "stdout",
     "output_type": "stream",
     "text": [
      "[1, 5, 8, 7, 4, 5, 6]\n"
     ]
    }
   ],
   "source": [
    "#two list add ,join , append\n",
    "b=[4,5,6]\n",
    "print(a+b)"
   ]
  },
  {
   "cell_type": "code",
   "execution_count": 80,
   "id": "ff9e8608",
   "metadata": {},
   "outputs": [],
   "source": [
    "a.append(b)"
   ]
  },
  {
   "cell_type": "code",
   "execution_count": 81,
   "id": "b99adc68",
   "metadata": {},
   "outputs": [
    {
     "name": "stdout",
     "output_type": "stream",
     "text": [
      "[1, 5, 8, 7, [4, 5, 6]]\n"
     ]
    }
   ],
   "source": [
    "print(a)"
   ]
  },
  {
   "cell_type": "code",
   "execution_count": 83,
   "id": "86be9090",
   "metadata": {},
   "outputs": [
    {
     "name": "stdout",
     "output_type": "stream",
     "text": [
      "[1, 5, 8, 7, [4, 5, 6], 4, 5, 6, 4, 5, 6]\n"
     ]
    }
   ],
   "source": [
    "a.extend(b) #extend is similar to a+b\n",
    "print(a)"
   ]
  },
  {
   "cell_type": "code",
   "execution_count": 114,
   "id": "6e621f19",
   "metadata": {},
   "outputs": [
    {
     "ename": "NameError",
     "evalue": "name 'join' is not defined",
     "output_type": "error",
     "traceback": [
      "\u001b[1;31m---------------------------------------------------------------------------\u001b[0m",
      "\u001b[1;31mNameError\u001b[0m                                 Traceback (most recent call last)",
      "Input \u001b[1;32mIn [114]\u001b[0m, in \u001b[0;36m<cell line: 1>\u001b[1;34m()\u001b[0m\n\u001b[1;32m----> 1\u001b[0m \u001b[43mjoin\u001b[49m(b)\n\u001b[0;32m      2\u001b[0m \u001b[38;5;28mprint\u001b[39m(a)\n",
      "\u001b[1;31mNameError\u001b[0m: name 'join' is not defined"
     ]
    }
   ],
   "source": [
    "a.join(b)\n",
    "print(a)"
   ]
  },
  {
   "cell_type": "code",
   "execution_count": 85,
   "id": "c38187e6",
   "metadata": {},
   "outputs": [
    {
     "name": "stdout",
     "output_type": "stream",
     "text": [
      "[1, 5, [4, 5, 6], 8, 7, [4, 5, 6], 4, 5, 6, 4, 5, 6]\n"
     ]
    }
   ],
   "source": [
    "a.insert(2,b)\n",
    "print(a)"
   ]
  },
  {
   "cell_type": "code",
   "execution_count": 90,
   "id": "c6ec7d43",
   "metadata": {},
   "outputs": [
    {
     "name": "stdout",
     "output_type": "stream",
     "text": [
      "[1, 5, 5, 6, 4, 5, 6]\n"
     ]
    }
   ],
   "source": [
    "#delete\n",
    "del a[2]\n",
    "print(a)"
   ]
  },
  {
   "cell_type": "code",
   "execution_count": 91,
   "id": "ec5693b2",
   "metadata": {},
   "outputs": [
    {
     "name": "stdout",
     "output_type": "stream",
     "text": [
      "[]\n"
     ]
    }
   ],
   "source": [
    "a.clear()\n",
    "print(a)"
   ]
  },
  {
   "cell_type": "code",
   "execution_count": 92,
   "id": "87971aa4",
   "metadata": {},
   "outputs": [
    {
     "name": "stdout",
     "output_type": "stream",
     "text": [
      "[4, 5, 6]\n"
     ]
    }
   ],
   "source": [
    "a=b\n",
    "print(a)"
   ]
  },
  {
   "cell_type": "code",
   "execution_count": 95,
   "id": "c446c5a4",
   "metadata": {},
   "outputs": [
    {
     "data": {
      "text/plain": [
       "[]"
      ]
     },
     "execution_count": 95,
     "metadata": {},
     "output_type": "execute_result"
    }
   ],
   "source": [
    "a.clear()\n",
    "a"
   ]
  },
  {
   "cell_type": "code",
   "execution_count": 96,
   "id": "f9651cb0",
   "metadata": {},
   "outputs": [
    {
     "name": "stdout",
     "output_type": "stream",
     "text": [
      "[4, 5, 6]\n"
     ]
    }
   ],
   "source": [
    "a=b.copy()\n",
    "print(a)\n"
   ]
  },
  {
   "cell_type": "code",
   "execution_count": 99,
   "id": "0e535fe8",
   "metadata": {},
   "outputs": [],
   "source": [
    "a.append([11,12,13,14])"
   ]
  },
  {
   "cell_type": "code",
   "execution_count": 106,
   "id": "58ef4a6d",
   "metadata": {},
   "outputs": [],
   "source": [
    "a.extend(b)"
   ]
  },
  {
   "cell_type": "code",
   "execution_count": 108,
   "id": "459b2ca9",
   "metadata": {},
   "outputs": [
    {
     "data": {
      "text/plain": [
       "[4,\n",
       " 5,\n",
       " 6,\n",
       " 11,\n",
       " [11, 12, 13, 14],\n",
       " [4, 5, 6],\n",
       " [4, 5, 6, 11, [11, 12, 13, 14], [4, 5, 6], 4, 5, 6],\n",
       " 4,\n",
       " 5,\n",
       " 6]"
      ]
     },
     "execution_count": 108,
     "metadata": {},
     "output_type": "execute_result"
    }
   ],
   "source": [
    "a\n"
   ]
  },
  {
   "cell_type": "code",
   "execution_count": 109,
   "id": "fca57223",
   "metadata": {},
   "outputs": [
    {
     "data": {
      "text/plain": [
       "2"
      ]
     },
     "execution_count": 109,
     "metadata": {},
     "output_type": "execute_result"
    }
   ],
   "source": [
    "a.count(4)"
   ]
  },
  {
   "cell_type": "code",
   "execution_count": 111,
   "id": "270d0208",
   "metadata": {},
   "outputs": [
    {
     "data": {
      "text/plain": [
       "10"
      ]
     },
     "execution_count": 111,
     "metadata": {},
     "output_type": "execute_result"
    }
   ],
   "source": [
    "len(a)"
   ]
  },
  {
   "cell_type": "code",
   "execution_count": 112,
   "id": "a586d855",
   "metadata": {},
   "outputs": [
    {
     "data": {
      "text/plain": [
       "[6, 11, [11, 12, 13, 14]]"
      ]
     },
     "execution_count": 112,
     "metadata": {},
     "output_type": "execute_result"
    }
   ],
   "source": [
    "#slicing\n",
    "a[2:5]  #starts from the index of first element(n) to (n-1)before last elements "
   ]
  },
  {
   "cell_type": "code",
   "execution_count": 113,
   "id": "02d25ff1",
   "metadata": {},
   "outputs": [
    {
     "data": {
      "text/plain": [
       "[6,\n",
       " 11,\n",
       " [11, 12, 13, 14],\n",
       " [4, 5, 6],\n",
       " [4, 5, 6, 11, [11, 12, 13, 14], [4, 5, 6], 4, 5, 6],\n",
       " 4,\n",
       " 5,\n",
       " 6]"
      ]
     },
     "execution_count": 113,
     "metadata": {},
     "output_type": "execute_result"
    }
   ],
   "source": [
    "a[2:]  #starts from the index of first element to the last element"
   ]
  },
  {
   "cell_type": "code",
   "execution_count": 116,
   "id": "7732a667",
   "metadata": {},
   "outputs": [
    {
     "data": {
      "text/plain": [
       "[4,\n",
       " 5,\n",
       " 6,\n",
       " 11,\n",
       " [11, 12, 13, 14],\n",
       " [4, 5, 6],\n",
       " [4, 5, 6, 11, [11, 12, 13, 14], [4, 5, 6], 4, 5, 6],\n",
       " 4,\n",
       " 5,\n",
       " 6]"
      ]
     },
     "execution_count": 116,
     "metadata": {},
     "output_type": "execute_result"
    }
   ],
   "source": [
    "a\n"
   ]
  },
  {
   "cell_type": "code",
   "execution_count": 118,
   "id": "7832af55",
   "metadata": {},
   "outputs": [
    {
     "data": {
      "text/plain": [
       "[4,\n",
       " 5,\n",
       " 6,\n",
       " 11,\n",
       " [11, 12, 13, 14],\n",
       " [4, 5, 6],\n",
       " [4, 5, 6, 11, [11, 12, 13, 14], [4, 5, 6], 4, 5, 6]]"
      ]
     },
     "execution_count": 118,
     "metadata": {},
     "output_type": "execute_result"
    }
   ],
   "source": [
    "a[:-3] #slice from right end"
   ]
  },
  {
   "cell_type": "code",
   "execution_count": 119,
   "id": "a534c7d3",
   "metadata": {},
   "outputs": [],
   "source": [
    "a.reverse()"
   ]
  },
  {
   "cell_type": "code",
   "execution_count": 120,
   "id": "f3a1f35f",
   "metadata": {},
   "outputs": [
    {
     "data": {
      "text/plain": [
       "[6,\n",
       " 5,\n",
       " 4,\n",
       " [4, 5, 6, 11, [11, 12, 13, 14], [4, 5, 6], 4, 5, 6],\n",
       " [4, 5, 6],\n",
       " [11, 12, 13, 14],\n",
       " 11,\n",
       " 6,\n",
       " 5,\n",
       " 4]"
      ]
     },
     "execution_count": 120,
     "metadata": {},
     "output_type": "execute_result"
    }
   ],
   "source": [
    "a"
   ]
  },
  {
   "cell_type": "code",
   "execution_count": 121,
   "id": "aae9ce76",
   "metadata": {},
   "outputs": [
    {
     "ename": "TypeError",
     "evalue": "'<' not supported between instances of 'list' and 'int'",
     "output_type": "error",
     "traceback": [
      "\u001b[1;31m---------------------------------------------------------------------------\u001b[0m",
      "\u001b[1;31mTypeError\u001b[0m                                 Traceback (most recent call last)",
      "Input \u001b[1;32mIn [121]\u001b[0m, in \u001b[0;36m<cell line: 1>\u001b[1;34m()\u001b[0m\n\u001b[1;32m----> 1\u001b[0m \u001b[43ma\u001b[49m\u001b[38;5;241;43m.\u001b[39;49m\u001b[43msort\u001b[49m\u001b[43m(\u001b[49m\u001b[43m)\u001b[49m\n",
      "\u001b[1;31mTypeError\u001b[0m: '<' not supported between instances of 'list' and 'int'"
     ]
    }
   ],
   "source": [
    "a.sort()"
   ]
  },
  {
   "cell_type": "code",
   "execution_count": 122,
   "id": "0b740248",
   "metadata": {},
   "outputs": [],
   "source": [
    "del a[3:6]"
   ]
  },
  {
   "cell_type": "code",
   "execution_count": 123,
   "id": "dcc39b30",
   "metadata": {},
   "outputs": [
    {
     "data": {
      "text/plain": [
       "[6, 5, 4, 11, 6, 5, 4]"
      ]
     },
     "execution_count": 123,
     "metadata": {},
     "output_type": "execute_result"
    }
   ],
   "source": [
    "a"
   ]
  },
  {
   "cell_type": "code",
   "execution_count": 124,
   "id": "8b2cff81",
   "metadata": {},
   "outputs": [],
   "source": [
    "a.sort()"
   ]
  },
  {
   "cell_type": "code",
   "execution_count": 125,
   "id": "b846096b",
   "metadata": {},
   "outputs": [
    {
     "data": {
      "text/plain": [
       "[4, 4, 5, 5, 6, 6, 11]"
      ]
     },
     "execution_count": 125,
     "metadata": {},
     "output_type": "execute_result"
    }
   ],
   "source": [
    "a"
   ]
  },
  {
   "cell_type": "code",
   "execution_count": 127,
   "id": "c511ebe6",
   "metadata": {},
   "outputs": [],
   "source": [
    "a.sort(reverse=True)"
   ]
  },
  {
   "cell_type": "code",
   "execution_count": 128,
   "id": "769c5ff4",
   "metadata": {},
   "outputs": [
    {
     "data": {
      "text/plain": [
       "[11, 6, 6, 5, 5, 4, 4]"
      ]
     },
     "execution_count": 128,
     "metadata": {},
     "output_type": "execute_result"
    }
   ],
   "source": [
    "a"
   ]
  },
  {
   "cell_type": "code",
   "execution_count": 129,
   "id": "df9f47bb",
   "metadata": {},
   "outputs": [],
   "source": [
    "c = ['aadrdenv','abalone','alone','acme','add'] #sorting for strings"
   ]
  },
  {
   "cell_type": "code",
   "execution_count": 130,
   "id": "0a3780dc",
   "metadata": {},
   "outputs": [],
   "source": [
    "c.sort(key=len)"
   ]
  },
  {
   "cell_type": "code",
   "execution_count": 131,
   "id": "09c0bb72",
   "metadata": {},
   "outputs": [
    {
     "data": {
      "text/plain": [
       "['add', 'acme', 'alone', 'abalone', 'aadrdenv']"
      ]
     },
     "execution_count": 131,
     "metadata": {},
     "output_type": "execute_result"
    }
   ],
   "source": [
    "c"
   ]
  },
  {
   "cell_type": "code",
   "execution_count": 132,
   "id": "b567bd4c",
   "metadata": {},
   "outputs": [
    {
     "data": {
      "text/plain": [
       "1"
      ]
     },
     "execution_count": 132,
     "metadata": {},
     "output_type": "execute_result"
    }
   ],
   "source": [
    "c.index('acme')"
   ]
  },
  {
   "cell_type": "code",
   "execution_count": 133,
   "id": "1ad6a2a7",
   "metadata": {},
   "outputs": [
    {
     "name": "stdout",
     "output_type": "stream",
     "text": [
      "add\n",
      "acme\n",
      "alone\n",
      "abalone\n",
      "aadrdenv\n"
     ]
    }
   ],
   "source": [
    "#list looping\n",
    "for  i in c:\n",
    "    print(i)"
   ]
  },
  {
   "cell_type": "code",
   "execution_count": null,
   "id": "b1f75e4d",
   "metadata": {},
   "outputs": [],
   "source": []
  }
 ],
 "metadata": {
  "kernelspec": {
   "display_name": "Python 3 (ipykernel)",
   "language": "python",
   "name": "python3"
  },
  "language_info": {
   "codemirror_mode": {
    "name": "ipython",
    "version": 3
   },
   "file_extension": ".py",
   "mimetype": "text/x-python",
   "name": "python",
   "nbconvert_exporter": "python",
   "pygments_lexer": "ipython3",
   "version": "3.9.12"
  }
 },
 "nbformat": 4,
 "nbformat_minor": 5
}
