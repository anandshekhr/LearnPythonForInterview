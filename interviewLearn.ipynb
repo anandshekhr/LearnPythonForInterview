{
 "cells": [
  {
   "cell_type": "code",
   "execution_count": 2,
   "id": "208a179f",
   "metadata": {},
   "outputs": [],
   "source": [
    "#read .csv file\n",
    "\n",
    "#import Libraries\n",
    "import pandas as pd\n",
    "import numpy as np\n"
   ]
  },
  {
   "cell_type": "code",
   "execution_count": 3,
   "id": "24ac4b6e",
   "metadata": {},
   "outputs": [],
   "source": [
    "#read CSV file\n",
    "df = pd.read_csv(\"./haberman.csv\")"
   ]
  },
  {
   "cell_type": "code",
   "execution_count": 4,
   "id": "43d9a9c5",
   "metadata": {},
   "outputs": [
    {
     "name": "stdout",
     "output_type": "stream",
     "text": [
      "     30  64   1  1.1\n",
      "0    30  62   3    1\n",
      "1    30  65   0    1\n",
      "2    31  59   2    1\n",
      "3    31  65   4    1\n",
      "4    33  58  10    1\n",
      "..   ..  ..  ..  ...\n",
      "300  75  62   1    1\n",
      "301  76  67   0    1\n",
      "302  77  65   3    1\n",
      "303  78  65   1    2\n",
      "304  83  58   2    2\n",
      "\n",
      "[305 rows x 4 columns]\n"
     ]
    }
   ],
   "source": [
    "print(df)"
   ]
  },
  {
   "cell_type": "code",
   "execution_count": 5,
   "id": "538e2a98",
   "metadata": {},
   "outputs": [
    {
     "data": {
      "text/html": [
       "<div>\n",
       "<style scoped>\n",
       "    .dataframe tbody tr th:only-of-type {\n",
       "        vertical-align: middle;\n",
       "    }\n",
       "\n",
       "    .dataframe tbody tr th {\n",
       "        vertical-align: top;\n",
       "    }\n",
       "\n",
       "    .dataframe thead th {\n",
       "        text-align: right;\n",
       "    }\n",
       "</style>\n",
       "<table border=\"1\" class=\"dataframe\">\n",
       "  <thead>\n",
       "    <tr style=\"text-align: right;\">\n",
       "      <th></th>\n",
       "      <th>30</th>\n",
       "      <th>64</th>\n",
       "      <th>1</th>\n",
       "      <th>1.1</th>\n",
       "    </tr>\n",
       "  </thead>\n",
       "  <tbody>\n",
       "    <tr>\n",
       "      <th>0</th>\n",
       "      <td>30</td>\n",
       "      <td>62</td>\n",
       "      <td>3</td>\n",
       "      <td>1</td>\n",
       "    </tr>\n",
       "    <tr>\n",
       "      <th>1</th>\n",
       "      <td>30</td>\n",
       "      <td>65</td>\n",
       "      <td>0</td>\n",
       "      <td>1</td>\n",
       "    </tr>\n",
       "    <tr>\n",
       "      <th>2</th>\n",
       "      <td>31</td>\n",
       "      <td>59</td>\n",
       "      <td>2</td>\n",
       "      <td>1</td>\n",
       "    </tr>\n",
       "    <tr>\n",
       "      <th>3</th>\n",
       "      <td>31</td>\n",
       "      <td>65</td>\n",
       "      <td>4</td>\n",
       "      <td>1</td>\n",
       "    </tr>\n",
       "    <tr>\n",
       "      <th>4</th>\n",
       "      <td>33</td>\n",
       "      <td>58</td>\n",
       "      <td>10</td>\n",
       "      <td>1</td>\n",
       "    </tr>\n",
       "  </tbody>\n",
       "</table>\n",
       "</div>"
      ],
      "text/plain": [
       "   30  64   1  1.1\n",
       "0  30  62   3    1\n",
       "1  30  65   0    1\n",
       "2  31  59   2    1\n",
       "3  31  65   4    1\n",
       "4  33  58  10    1"
      ]
     },
     "execution_count": 5,
     "metadata": {},
     "output_type": "execute_result"
    }
   ],
   "source": [
    "# to give head of DF\n",
    "# give first five rows of df\n",
    "df.head()"
   ]
  },
  {
   "cell_type": "code",
   "execution_count": 6,
   "id": "8f19a2e6",
   "metadata": {},
   "outputs": [
    {
     "data": {
      "text/html": [
       "<div>\n",
       "<style scoped>\n",
       "    .dataframe tbody tr th:only-of-type {\n",
       "        vertical-align: middle;\n",
       "    }\n",
       "\n",
       "    .dataframe tbody tr th {\n",
       "        vertical-align: top;\n",
       "    }\n",
       "\n",
       "    .dataframe thead th {\n",
       "        text-align: right;\n",
       "    }\n",
       "</style>\n",
       "<table border=\"1\" class=\"dataframe\">\n",
       "  <thead>\n",
       "    <tr style=\"text-align: right;\">\n",
       "      <th></th>\n",
       "      <th>30</th>\n",
       "      <th>64</th>\n",
       "      <th>1</th>\n",
       "      <th>1.1</th>\n",
       "    </tr>\n",
       "  </thead>\n",
       "  <tbody>\n",
       "    <tr>\n",
       "      <th>300</th>\n",
       "      <td>75</td>\n",
       "      <td>62</td>\n",
       "      <td>1</td>\n",
       "      <td>1</td>\n",
       "    </tr>\n",
       "    <tr>\n",
       "      <th>301</th>\n",
       "      <td>76</td>\n",
       "      <td>67</td>\n",
       "      <td>0</td>\n",
       "      <td>1</td>\n",
       "    </tr>\n",
       "    <tr>\n",
       "      <th>302</th>\n",
       "      <td>77</td>\n",
       "      <td>65</td>\n",
       "      <td>3</td>\n",
       "      <td>1</td>\n",
       "    </tr>\n",
       "    <tr>\n",
       "      <th>303</th>\n",
       "      <td>78</td>\n",
       "      <td>65</td>\n",
       "      <td>1</td>\n",
       "      <td>2</td>\n",
       "    </tr>\n",
       "    <tr>\n",
       "      <th>304</th>\n",
       "      <td>83</td>\n",
       "      <td>58</td>\n",
       "      <td>2</td>\n",
       "      <td>2</td>\n",
       "    </tr>\n",
       "  </tbody>\n",
       "</table>\n",
       "</div>"
      ],
      "text/plain": [
       "     30  64  1  1.1\n",
       "300  75  62  1    1\n",
       "301  76  67  0    1\n",
       "302  77  65  3    1\n",
       "303  78  65  1    2\n",
       "304  83  58  2    2"
      ]
     },
     "execution_count": 6,
     "metadata": {},
     "output_type": "execute_result"
    }
   ],
   "source": [
    "#give last few rows\n",
    "df.tail()"
   ]
  },
  {
   "cell_type": "code",
   "execution_count": 7,
   "id": "f6d2e31c",
   "metadata": {},
   "outputs": [
    {
     "data": {
      "text/html": [
       "<div>\n",
       "<style scoped>\n",
       "    .dataframe tbody tr th:only-of-type {\n",
       "        vertical-align: middle;\n",
       "    }\n",
       "\n",
       "    .dataframe tbody tr th {\n",
       "        vertical-align: top;\n",
       "    }\n",
       "\n",
       "    .dataframe thead th {\n",
       "        text-align: right;\n",
       "    }\n",
       "</style>\n",
       "<table border=\"1\" class=\"dataframe\">\n",
       "  <thead>\n",
       "    <tr style=\"text-align: right;\">\n",
       "      <th></th>\n",
       "      <th>30</th>\n",
       "      <th>64</th>\n",
       "      <th>1</th>\n",
       "      <th>1.1</th>\n",
       "    </tr>\n",
       "  </thead>\n",
       "  <tbody>\n",
       "    <tr>\n",
       "      <th>2</th>\n",
       "      <td>31</td>\n",
       "      <td>59</td>\n",
       "      <td>2</td>\n",
       "      <td>1</td>\n",
       "    </tr>\n",
       "    <tr>\n",
       "      <th>3</th>\n",
       "      <td>31</td>\n",
       "      <td>65</td>\n",
       "      <td>4</td>\n",
       "      <td>1</td>\n",
       "    </tr>\n",
       "    <tr>\n",
       "      <th>4</th>\n",
       "      <td>33</td>\n",
       "      <td>58</td>\n",
       "      <td>10</td>\n",
       "      <td>1</td>\n",
       "    </tr>\n",
       "  </tbody>\n",
       "</table>\n",
       "</div>"
      ],
      "text/plain": [
       "   30  64   1  1.1\n",
       "2  31  59   2    1\n",
       "3  31  65   4    1\n",
       "4  33  58  10    1"
      ]
     },
     "execution_count": 7,
     "metadata": {},
     "output_type": "execute_result"
    }
   ],
   "source": [
    "#data slicing\n",
    "df[2:5]"
   ]
  },
  {
   "cell_type": "code",
   "execution_count": 8,
   "id": "f1d2df62",
   "metadata": {},
   "outputs": [
    {
     "data": {
      "text/plain": [
       "Index(['30', '64', '1', '1.1'], dtype='object')"
      ]
     },
     "execution_count": 8,
     "metadata": {},
     "output_type": "execute_result"
    }
   ],
   "source": [
    "#listof columns\n",
    "df.columns"
   ]
  },
  {
   "cell_type": "code",
   "execution_count": 9,
   "id": "48d05d36",
   "metadata": {},
   "outputs": [
    {
     "data": {
      "text/plain": [
       "count    305.000000\n",
       "mean      52.531148\n",
       "std       10.744024\n",
       "min       30.000000\n",
       "25%       44.000000\n",
       "50%       52.000000\n",
       "75%       61.000000\n",
       "max       83.000000\n",
       "Name: 30, dtype: float64"
      ]
     },
     "execution_count": 9,
     "metadata": {},
     "output_type": "execute_result"
    }
   ],
   "source": [
    "#describe min max \n",
    "df['30'].min()\n",
    "df['30'].max()\n",
    "df['30'].describe()"
   ]
  },
  {
   "cell_type": "code",
   "execution_count": 10,
   "id": "4f2df30c",
   "metadata": {},
   "outputs": [
    {
     "name": "stdout",
     "output_type": "stream",
     "text": [
      "[0 1 2 3 4 5 6 7 8 9]\n"
     ]
    }
   ],
   "source": [
    "#numpy arrays\n",
    "a = np.arange(10)\n",
    "print(a)"
   ]
  },
  {
   "cell_type": "code",
   "execution_count": 11,
   "id": "d011e83b",
   "metadata": {},
   "outputs": [
    {
     "data": {
      "text/plain": [
       "1"
      ]
     },
     "execution_count": 11,
     "metadata": {},
     "output_type": "execute_result"
    }
   ],
   "source": [
    "#show dimension\n",
    "a.ndim"
   ]
  },
  {
   "cell_type": "code",
   "execution_count": 12,
   "id": "f5854b32",
   "metadata": {},
   "outputs": [
    {
     "data": {
      "text/plain": [
       "(10,)"
      ]
     },
     "execution_count": 12,
     "metadata": {},
     "output_type": "execute_result"
    }
   ],
   "source": [
    "#show shape\n",
    "a.shape"
   ]
  },
  {
   "cell_type": "code",
   "execution_count": 13,
   "id": "52af3754",
   "metadata": {},
   "outputs": [],
   "source": [
    "#arange with stepsize\n",
    "a = np.arange(1,10,2)"
   ]
  },
  {
   "cell_type": "code",
   "execution_count": 14,
   "id": "946e760a",
   "metadata": {},
   "outputs": [
    {
     "name": "stdout",
     "output_type": "stream",
     "text": [
      "[1 3 5 7 9]\n"
     ]
    }
   ],
   "source": [
    "print(a)"
   ]
  },
  {
   "cell_type": "code",
   "execution_count": 15,
   "id": "ed9b6577",
   "metadata": {},
   "outputs": [
    {
     "name": "stdout",
     "output_type": "stream",
     "text": [
      "[0.  0.2 0.4 0.6 0.8 1. ]\n"
     ]
    }
   ],
   "source": [
    "#linspace: divide the range in number of parts\n",
    "a =np.linspace(0,1,6)\n",
    "print(a)"
   ]
  },
  {
   "cell_type": "code",
   "execution_count": 16,
   "id": "c2513231",
   "metadata": {},
   "outputs": [
    {
     "name": "stdout",
     "output_type": "stream",
     "text": [
      "[[1. 1. 1.]\n",
      " [1. 1. 1.]\n",
      " [1. 1. 1.]]\n"
     ]
    }
   ],
   "source": [
    "#make a matrix\n",
    "a = np.ones((3,3))\n",
    "print(a)"
   ]
  },
  {
   "cell_type": "code",
   "execution_count": 17,
   "id": "dae6e4a6",
   "metadata": {},
   "outputs": [
    {
     "name": "stdout",
     "output_type": "stream",
     "text": [
      "[[1. 0. 0.]\n",
      " [0. 1. 0.]\n",
      " [0. 0. 1.]]\n"
     ]
    }
   ],
   "source": [
    "#make a identity matrix\n",
    "a = np.eye(3)\n",
    "print(a)"
   ]
  },
  {
   "cell_type": "code",
   "execution_count": 18,
   "id": "cad23daf",
   "metadata": {},
   "outputs": [
    {
     "name": "stdout",
     "output_type": "stream",
     "text": [
      "[[1. 0. 0.]\n",
      " [0. 1. 0.]]\n"
     ]
    }
   ],
   "source": [
    "# make identity matrix with rows and columns\n",
    "a =np.eye(2,3)\n",
    "print(a)"
   ]
  },
  {
   "cell_type": "code",
   "execution_count": 19,
   "id": "324ec661",
   "metadata": {},
   "outputs": [
    {
     "name": "stdout",
     "output_type": "stream",
     "text": [
      "[[1 0 0 0]\n",
      " [0 2 0 0]\n",
      " [0 0 3 0]\n",
      " [0 0 0 4]]\n"
     ]
    }
   ],
   "source": [
    "#make matrix with diagonal values\n",
    "a = np.diag([1,2,3,4])\n",
    "print(a)"
   ]
  },
  {
   "cell_type": "code",
   "execution_count": 20,
   "id": "41e03312",
   "metadata": {},
   "outputs": [],
   "source": [
    "# assigning values in matrix\n",
    "a[2,1] = 5"
   ]
  },
  {
   "cell_type": "code",
   "execution_count": 21,
   "id": "f34db36d",
   "metadata": {},
   "outputs": [
    {
     "name": "stdout",
     "output_type": "stream",
     "text": [
      "[[1 0 0 0]\n",
      " [0 2 0 0]\n",
      " [0 5 3 0]\n",
      " [0 0 0 4]]\n"
     ]
    }
   ],
   "source": [
    "print(a)"
   ]
  },
  {
   "cell_type": "code",
   "execution_count": 22,
   "id": "1afc07dc",
   "metadata": {},
   "outputs": [
    {
     "name": "stdout",
     "output_type": "stream",
     "text": [
      "[1 3 5 7]\n"
     ]
    }
   ],
   "source": [
    "#slicing a range\n",
    "a = np.arange(10)\n",
    "print(a[1:8:2])"
   ]
  },
  {
   "cell_type": "code",
   "execution_count": 23,
   "id": "6acbae13",
   "metadata": {},
   "outputs": [],
   "source": [
    "#functions\n",
    "\n",
    "#arbitrary arguments:\n",
    "def arbitrary_arguments():\n",
    "    return \"sometimes we do not know in advance the no. of arguments that will be passed into a function. Python allows us to handle this kind of situation through dfunciton calls with arbitraty no. of arguments\"\n"
   ]
  },
  {
   "cell_type": "code",
   "execution_count": 24,
   "id": "1ba3087a",
   "metadata": {},
   "outputs": [
    {
     "data": {
      "text/plain": [
       "'sometimes we do not know in advance the no. of arguments that will be passed into a function. Python allows us to handle this kind of situation through dfunciton calls with arbitraty no. of arguments'"
      ]
     },
     "execution_count": 24,
     "metadata": {},
     "output_type": "execute_result"
    }
   ],
   "source": [
    "arbitrary_arguments()"
   ]
  },
  {
   "cell_type": "code",
   "execution_count": 25,
   "id": "994a4183",
   "metadata": {},
   "outputs": [],
   "source": [
    "# text wrap funciton\n",
    "import textwrap\n",
    "def text_wrap(string,max_width):\n",
    "    new_text = textwrap.fill(string,width = max_width)\n",
    "    return new_text"
   ]
  },
  {
   "cell_type": "code",
   "execution_count": 26,
   "id": "3f391655",
   "metadata": {},
   "outputs": [
    {
     "data": {
      "text/plain": [
       "'abcde\\nfghij\\nklmno\\npqrst\\nuvwxy\\nz'"
      ]
     },
     "execution_count": 26,
     "metadata": {},
     "output_type": "execute_result"
    }
   ],
   "source": [
    "text_wrap('abcdefghijklmnopqrstuvwxyz',5)"
   ]
  },
  {
   "cell_type": "code",
   "execution_count": 27,
   "id": "280001a0",
   "metadata": {},
   "outputs": [],
   "source": [
    "#list and list functions\n",
    "emptylist = []"
   ]
  },
  {
   "cell_type": "code",
   "execution_count": 28,
   "id": "e9674451",
   "metadata": {},
   "outputs": [],
   "source": [
    "emptylist = ['one','two','three']"
   ]
  },
  {
   "cell_type": "code",
   "execution_count": 29,
   "id": "1440efb1",
   "metadata": {},
   "outputs": [
    {
     "name": "stdout",
     "output_type": "stream",
     "text": [
      "['one', 'two', 'three']\n"
     ]
    }
   ],
   "source": [
    "print(emptylist)"
   ]
  },
  {
   "cell_type": "code",
   "execution_count": 30,
   "id": "4ccbd1bb",
   "metadata": {},
   "outputs": [],
   "source": [
    "b = emptylist"
   ]
  },
  {
   "cell_type": "code",
   "execution_count": 31,
   "id": "9bd943a1",
   "metadata": {},
   "outputs": [
    {
     "name": "stdout",
     "output_type": "stream",
     "text": [
      "['one', 'two', 'three']\n"
     ]
    }
   ],
   "source": [
    "print(b)"
   ]
  },
  {
   "cell_type": "code",
   "execution_count": 32,
   "id": "c4a5260b",
   "metadata": {},
   "outputs": [
    {
     "name": "stdout",
     "output_type": "stream",
     "text": [
      "3\n"
     ]
    }
   ],
   "source": [
    "print(len(b)) #length of list"
   ]
  },
  {
   "cell_type": "code",
   "execution_count": 33,
   "id": "e60e9d8b",
   "metadata": {},
   "outputs": [
    {
     "name": "stdout",
     "output_type": "stream",
     "text": [
      "['one', 'two', 'three', 'five']\n"
     ]
    }
   ],
   "source": [
    "b.append('five') #to add element in the list\n",
    "print(b)"
   ]
  },
  {
   "cell_type": "code",
   "execution_count": 34,
   "id": "86c4c3ac",
   "metadata": {},
   "outputs": [
    {
     "name": "stdout",
     "output_type": "stream",
     "text": [
      "['one', 'two', 'six', 'three', 'five']\n"
     ]
    }
   ],
   "source": [
    "# to insert element at certain locations\n",
    "b.insert(2,'six')\n",
    "print(b)"
   ]
  },
  {
   "cell_type": "code",
   "execution_count": 35,
   "id": "79a41e4e",
   "metadata": {},
   "outputs": [
    {
     "name": "stdout",
     "output_type": "stream",
     "text": [
      "['one', 'two', 'three', 'five']\n"
     ]
    }
   ],
   "source": [
    "#to remove element form list\n",
    "b.remove('six')\n",
    "print(b)      #remove the first occurence of item"
   ]
  },
  {
   "cell_type": "code",
   "execution_count": 36,
   "id": "e9857491",
   "metadata": {},
   "outputs": [
    {
     "name": "stdout",
     "output_type": "stream",
     "text": [
      "['one', 'two', 'three', 'five', 1, 2, 3]\n"
     ]
    }
   ],
   "source": [
    "#to extend the list\n",
    "c = [1,2,3]\n",
    "b.extend(c)\n",
    "print(b)"
   ]
  },
  {
   "cell_type": "code",
   "execution_count": 37,
   "id": "4a215d8b",
   "metadata": {},
   "outputs": [
    {
     "name": "stdout",
     "output_type": "stream",
     "text": [
      "['one', 'two', 'three', 'five', 1, 2, 3, [1, 2, 3]]\n"
     ]
    }
   ],
   "source": [
    "#to append the list\n",
    "b.append(c)\n",
    "print(b)        #list will be appended as it is in another list"
   ]
  },
  {
   "cell_type": "code",
   "execution_count": 38,
   "id": "a57d2fdd",
   "metadata": {},
   "outputs": [
    {
     "name": "stdout",
     "output_type": "stream",
     "text": [
      "['one', 'two', 'three', 'five', 1, 2, 3]\n"
     ]
    }
   ],
   "source": [
    "# to delete items from list\n",
    "del b[-1]\n",
    "print(b)     #delete the specific position"
   ]
  },
  {
   "cell_type": "code",
   "execution_count": 39,
   "id": "28c6844f",
   "metadata": {},
   "outputs": [
    {
     "name": "stdout",
     "output_type": "stream",
     "text": [
      "['one', 'two', 'three', 'five', 1, 2]\n",
      "3\n"
     ]
    }
   ],
   "source": [
    "# to delete items from list\n",
    "e = b.pop(-1)\n",
    "print(b)\n",
    "print(e)"
   ]
  },
  {
   "cell_type": "code",
   "execution_count": 40,
   "id": "a9caf4fe",
   "metadata": {},
   "outputs": [],
   "source": [
    "#arrays\n"
   ]
  },
  {
   "cell_type": "code",
   "execution_count": 41,
   "id": "84694a17",
   "metadata": {},
   "outputs": [],
   "source": [
    "#List and Dictionary Comprehension\n",
    "def list_dictionary_comprehension():\n",
    "    return \"Python comprehensios are syntactic constructs providing a way to build a list, dictionary or set based on the existing list, dictionary or set whilst altering or filtering elements e.g [i for i in range(10,60) if i %10 == 0], insimple words declaring list in one line\""
   ]
  },
  {
   "cell_type": "code",
   "execution_count": 42,
   "id": "721a4eba",
   "metadata": {},
   "outputs": [
    {
     "data": {
      "text/plain": [
       "'Python comprehensios are syntactic constructs providing a way to build a list, dictionary or set based on the existing list, dictionary or set whilst altering or filtering elements e.g [i for i in range(10,60) if i %10 == 0], insimple words declaring list in one line'"
      ]
     },
     "execution_count": 42,
     "metadata": {},
     "output_type": "execute_result"
    }
   ],
   "source": [
    "list_dictionary_comprehension()"
   ]
  },
  {
   "cell_type": "code",
   "execution_count": 43,
   "id": "6d11b08b",
   "metadata": {},
   "outputs": [],
   "source": [
    "#Generators and Decorators\n",
    "def generators():\n",
    "    return \"It is a function returning an iterable or object over which can iterate that is by taking one value at a time\""
   ]
  },
  {
   "cell_type": "code",
   "execution_count": 44,
   "id": "960bdc94",
   "metadata": {},
   "outputs": [],
   "source": [
    "def decorator():\n",
    "    return \"A decorator allows us to modify or alter the functions, methods and classes\""
   ]
  },
  {
   "cell_type": "code",
   "execution_count": 45,
   "id": "e1c77cb2",
   "metadata": {},
   "outputs": [],
   "source": [
    "# difference between 'is' and '=='\n",
    "def difference_between_is_and_equal():\n",
    "    return \"\"\" '==' checks for equality b/w the variable and 'is' check for identity of the variables\n",
    "    \"\"\" "
   ]
  },
  {
   "cell_type": "code",
   "execution_count": 46,
   "id": "2014393d",
   "metadata": {},
   "outputs": [
    {
     "data": {
      "text/plain": [
       "\" '==' checks for equality b/w the variable and 'is' check for identity of the variables\\n    \""
      ]
     },
     "execution_count": 46,
     "metadata": {},
     "output_type": "execute_result"
    }
   ],
   "source": [
    "difference_between_is_and_equal()"
   ]
  },
  {
   "cell_type": "code",
   "execution_count": 47,
   "id": "de6e2ed4",
   "metadata": {},
   "outputs": [],
   "source": [
    "# differenc e between indexing and slicing\n",
    "def indexing_and_slicing():\n",
    "    return \"\"\" indexing: extracting or looking one or particular values in a data structure e.g. a = [Python] print(a[2]) = t\n",
    "    slicing: retreive a sequence of elements e.g. print(a[2:]) = thon\n",
    "    \n",
    "    \"\"\""
   ]
  },
  {
   "cell_type": "code",
   "execution_count": 48,
   "id": "4e171dbc",
   "metadata": {},
   "outputs": [
    {
     "data": {
      "text/plain": [
       "' indexing: extracting or looking one or particular values in a data structure e.g. a = [Python] print(a[2]) = t\\n    slicing: retreive a sequence of elements e.g. print(a[2:]) = thon\\n    \\n    '"
      ]
     },
     "execution_count": 48,
     "metadata": {},
     "output_type": "execute_result"
    }
   ],
   "source": [
    "indexing_and_slicing()"
   ]
  },
  {
   "cell_type": "code",
   "execution_count": 50,
   "id": "9e6ed06e",
   "metadata": {},
   "outputs": [],
   "source": [
    "def Python():\n",
    "    return \"python is an object-oriented language, meaning it can encloses the code within objects\""
   ]
  },
  {
   "cell_type": "code",
   "execution_count": 51,
   "id": "9108151d",
   "metadata": {},
   "outputs": [],
   "source": [
    "def PEP8():\n",
    "    return \"\"\"PEP8 is coding convention, It consists of coding guidelines that are a set of recommendation for python language about making the python more readable\n",
    "     and usable for another persion\"\"\""
   ]
  },
  {
   "cell_type": "code",
   "execution_count": 52,
   "id": "49c53ced",
   "metadata": {},
   "outputs": [],
   "source": [
    "def Mutable_and_immutable_objects():\n",
    "    return \"\"\"mutability: is the ability to change the portion of data structure without having to recreate it.\n",
    "    e.g. list,sets,values in the dictionary\n",
    "    immutability: e.g. integers, string, float, bool, tuples, keys \n",
    "    \"\"\""
   ]
  },
  {
   "cell_type": "code",
   "execution_count": 53,
   "id": "ca77ed13",
   "metadata": {},
   "outputs": [
    {
     "data": {
      "text/plain": [
       "'mutability: is the ability to change the portion of data structure without having to recreate it.\\n    e.g. list,sets,values in the dictionary\\n    immutability: e.g. integers, string, float, bool, tuples, keys \\n    '"
      ]
     },
     "execution_count": 53,
     "metadata": {},
     "output_type": "execute_result"
    }
   ],
   "source": [
    "Mutable_and_immutable_objects()"
   ]
  },
  {
   "cell_type": "code",
   "execution_count": 55,
   "id": "7353d473",
   "metadata": {},
   "outputs": [],
   "source": [
    "def compound_data_types():\n",
    "    return \" the data types that is constructed using simple, primitive and basic data types are compound data types\""
   ]
  },
  {
   "cell_type": "code",
   "execution_count": 56,
   "id": "779d17c5",
   "metadata": {},
   "outputs": [],
   "source": [
    "def data_structure():\n",
    "    return \" DS in python allows us to store multiple observations. these are lists, tuples, sets, and dictionaries\""
   ]
  },
  {
   "cell_type": "code",
   "execution_count": 57,
   "id": "1641b1f8",
   "metadata": {},
   "outputs": [],
   "source": [
    "def difference_between_lists_and_tuplesS():\n",
    "    return \"\"\"List: lists are enclosed within []\n",
    "    Lists are mutable\n",
    "    Lists are slower than tuples\n",
    "    Tuples: enclosed withing parenthesis()\n",
    "    tuples are immutables\n",
    "    tuples are faster than lists\n",
    "    tuples must be used where order of the element of the sequence matters\n",
    "    \"\"\""
   ]
  },
  {
   "cell_type": "code",
   "execution_count": null,
   "id": "67f09219",
   "metadata": {},
   "outputs": [],
   "source": []
  }
 ],
 "metadata": {
  "kernelspec": {
   "display_name": "Python 3 (ipykernel)",
   "language": "python",
   "name": "python3"
  },
  "language_info": {
   "codemirror_mode": {
    "name": "ipython",
    "version": 3
   },
   "file_extension": ".py",
   "mimetype": "text/x-python",
   "name": "python",
   "nbconvert_exporter": "python",
   "pygments_lexer": "ipython3",
   "version": "3.9.7"
  }
 },
 "nbformat": 4,
 "nbformat_minor": 5
}
